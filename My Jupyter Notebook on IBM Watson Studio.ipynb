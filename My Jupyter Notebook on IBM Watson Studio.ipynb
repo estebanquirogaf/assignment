{
 "cells": [
  {
   "cell_type": "markdown",
   "id": "c40b004c-b0c2-4fad-aa0f-f75c841590f1",
   "metadata": {},
   "source": [
    "#My Jupyter Notebook on IBM Watson Studio"
   ]
  },
  {
   "cell_type": "markdown",
   "id": "645ff7ff-cd06-4b1b-9629-972951bcec63",
   "metadata": {},
   "source": [
    "**Esteban Quiroga**\n",
    "I want to be a data scientist in the finance or fintech sector"
   ]
  },
  {
   "cell_type": "markdown",
   "id": "22e0c9c0-ffcb-441a-af97-c7aab7692bd1",
   "metadata": {},
   "source": [
    "*I am interested in data science because I think it is very interesting and I can find a job related with the fintech sector and start-ups.*"
   ]
  },
  {
   "cell_type": "markdown",
   "id": "997e4b94-b1a2-43f0-9fd6-a19a0b6beef7",
   "metadata": {
    "tags": []
   },
   "source": [
    "### Next cell initializes variable a as a numeric variable with a value of cero, after that, it adds a 1 to the value of a and then prints it"
   ]
  },
  {
   "cell_type": "code",
   "execution_count": 9,
   "id": "978e402e-263e-4d0a-97ed-9801700b1e40",
   "metadata": {},
   "outputs": [
    {
     "name": "stdout",
     "output_type": "stream",
     "text": [
      "1\n"
     ]
    }
   ],
   "source": [
    "a = 0\n",
    "a = a+1\n",
    "print(a)"
   ]
  },
  {
   "cell_type": "markdown",
   "id": "306c1348-8f0c-4e0e-a4c7-6e12c613c4fc",
   "metadata": {},
   "source": [
    "<!-- HTML Code -->\n",
    "<!-- Horizontal rule -->\n",
    "<hr>\n",
    "<!-- Bulleted list -->\n",
    "<ul>\n",
    "  <li>Item 1</li>\n",
    "  <li>Item 2</li>\n",
    "  <li>Item 3</li>\n",
    "</ul>\n",
    "<!-- Numbered list -->\n",
    "<ol>\n",
    "  <li>Item 1</li>\n",
    "  <li>Item 2</li>\n",
    "  <li>Item 3</li>\n",
    "</ol>\n",
    "<!-- Table -->\n",
    "<table>\n",
    "  <tr>\n",
    "    <th>Header 1</th>\n",
    "    <th>Header 2</th>\n",
    "  </tr>\n",
    "  <tr>\n",
    "    <td>Row 1, Column 1</td>\n",
    "    <td>Row 1, Column 2</td>\n",
    "  </tr>\n",
    "  <tr>\n",
    "    <td>Row 2, Column 1</td>\n",
    "    <td>Row 2, Column 2</td>\n",
    "  </tr>\n",
    "</table>\n",
    "<!-- Hyperlink -->\n",
    "<a href=\"#\">www.figofg.com</a>\n",
    "\n"
   ]
  },
  {
   "cell_type": "code",
   "execution_count": null,
   "id": "36b24f80-ab8b-4c64-8f11-ab76c10aadd2",
   "metadata": {},
   "outputs": [],
   "source": []
  }
 ],
 "metadata": {
  "kernelspec": {
   "display_name": "Python",
   "language": "python",
   "name": "conda-env-python-py"
  },
  "language_info": {
   "codemirror_mode": {
    "name": "ipython",
    "version": 3
   },
   "file_extension": ".py",
   "mimetype": "text/x-python",
   "name": "python",
   "nbconvert_exporter": "python",
   "pygments_lexer": "ipython3",
   "version": "3.7.12"
  }
 },
 "nbformat": 4,
 "nbformat_minor": 5
}
